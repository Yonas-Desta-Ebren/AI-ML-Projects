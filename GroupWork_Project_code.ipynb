{
  "nbformat": 4,
  "nbformat_minor": 0,
  "metadata": {
    "colab": {
      "provenance": [],
      "toc_visible": true,
      "authorship_tag": "ABX9TyPE5zyCyRmA6d+uKLBNVPri",
      "include_colab_link": true
    },
    "kernelspec": {
      "name": "python3",
      "display_name": "Python 3"
    },
    "language_info": {
      "name": "python"
    }
  },
  "cells": [
    {
      "cell_type": "markdown",
      "metadata": {
        "id": "view-in-github",
        "colab_type": "text"
      },
      "source": [
        "<a href=\"https://colab.research.google.com/github/Yonas-Desta-Ebren/AI-ML-Projects/blob/main/GroupWork_Project_code.ipynb\" target=\"_parent\"><img src=\"https://colab.research.google.com/assets/colab-badge.svg\" alt=\"Open In Colab\"/></a>"
      ]
    },
    {
      "cell_type": "code",
      "execution_count": 36,
      "metadata": {
        "id": "qJHhLdprJ_Lo"
      },
      "outputs": [],
      "source": [
        "import yfinance as yf\n",
        "import pandas as pd\n",
        "import numpy as np\n",
        "from sklearn.preprocessing import MinMaxScaler\n",
        "from sklearn.neural_network import MLPClassifier\n",
        "from sklearn.model_selection import StratifiedKFold"
      ]
    },
    {
      "cell_type": "code",
      "source": [
        "# Download historical stock data\n",
        "ech_data = yf.download('ECH', start='2009-12-12', end='2020-01-01')\n",
        "# Save the data to a CSV file\n",
        "ech_data.to_csv('ech_data.csv')\n",
        "# Load the data from the CSV file\n",
        "data = pd.read_csv('ech_data.csv')\n"
      ],
      "metadata": {
        "colab": {
          "base_uri": "https://localhost:8080/"
        },
        "id": "fVvtSE73N73N",
        "outputId": "c648a088-07f4-4944-ffe7-b3ae24941b39"
      },
      "execution_count": 37,
      "outputs": [
        {
          "output_type": "stream",
          "name": "stderr",
          "text": [
            "\r[*********************100%***********************]  1 of 1 completed\n"
          ]
        }
      ]
    },
    {
      "cell_type": "code",
      "source": [
        "\n",
        "# Convert relevant columns to numeric if necessary\n",
        "data['Open'] = pd.to_numeric(data['Open'], errors='coerce')\n",
        "data['Close'] = pd.to_numeric(data['Close'], errors='coerce')\n",
        "data['High'] = pd.to_numeric(data['High'], errors='coerce')\n",
        "data['Low'] = pd.to_numeric(data['Low'], errors='coerce')\n",
        "data['Volume'] = pd.to_numeric(data['Volume'], errors='coerce')\n",
        "# Drop rows with missing values\n",
        "data = data.dropna()\n",
        "# feature engineering\n",
        "data['Gamma'] = np.where(data['Open'].diff() > 0, 1, -1)  # Example target variable"
      ],
      "metadata": {
        "colab": {
          "base_uri": "https://localhost:8080/"
        },
        "id": "3KM58wzXKKd3",
        "outputId": "3e933e0a-256f-47d0-a1fa-7b716a787a2c"
      },
      "execution_count": 38,
      "outputs": [
        {
          "output_type": "stream",
          "name": "stderr",
          "text": [
            "<ipython-input-38-5ce4cc25762f>:10: SettingWithCopyWarning: \n",
            "A value is trying to be set on a copy of a slice from a DataFrame.\n",
            "Try using .loc[row_indexer,col_indexer] = value instead\n",
            "\n",
            "See the caveats in the documentation: https://pandas.pydata.org/pandas-docs/stable/user_guide/indexing.html#returning-a-view-versus-a-copy\n",
            "  data['Gamma'] = np.where(data['Open'].diff() > 0, 1, -1)  # Example target variable\n"
          ]
        }
      ]
    },
    {
      "cell_type": "code",
      "source": [
        "# Features and target\n",
        "X = data[['Open', 'High', 'Low', 'Close', 'Volume']]  # features\n",
        "y = data['Gamma']  # Target variable\n",
        "\n",
        "# Scale features\n",
        "scaler = MinMaxScaler()\n",
        "X_scaled = scaler.fit_transform(X)\n",
        "\n",
        "# Set up cross-validation\n",
        "skf = StratifiedKFold(n_splits=5)\n",
        "\n",
        "# Initialize the MLPClassifier\n",
        "model = MLPClassifier(hidden_layer_sizes=(100,), max_iter=500)"
      ],
      "metadata": {
        "id": "oG_DnPmQOLXO"
      },
      "execution_count": 40,
      "outputs": []
    },
    {
      "cell_type": "code",
      "source": [
        "# training the model using cross-validation\n",
        "for train_index, test_index in skf.split(X_scaled, y):\n",
        "    X_train, X_test = X_scaled[train_index], X_scaled[test_index]\n",
        "    y_train, y_test = y.iloc[train_index], y.iloc[test_index]\n",
        "\n",
        "    model.fit(X_train, y_train)\n",
        "    score = model.score(X_test, y_test)\n",
        "    print(f\"Fold score: {score:.4f}\")"
      ],
      "metadata": {
        "colab": {
          "base_uri": "https://localhost:8080/"
        },
        "id": "fZXrUX3BOGGd",
        "outputId": "24de0985-1880-4d2d-8581-9e274369513c"
      },
      "execution_count": 41,
      "outputs": [
        {
          "output_type": "stream",
          "name": "stdout",
          "text": [
            "Fold score: 0.5099\n",
            "Fold score: 0.5217\n",
            "Fold score: 0.5040\n",
            "Fold score: 0.4585\n",
            "Fold score: 0.5267\n"
          ]
        }
      ]
    },
    {
      "cell_type": "code",
      "source": [
        "# Calculate Pearson's Correlation for feature selection\n",
        "correlations = X.corrwith(data['Gamma']).abs()\n",
        "print(\"Pearson Correlations:\\n\", correlations)"
      ],
      "metadata": {
        "colab": {
          "base_uri": "https://localhost:8080/"
        },
        "id": "p7KvQFKkKf-C",
        "outputId": "ed37c27e-9d9d-4cda-9afe-f857a65cf17f"
      },
      "execution_count": 42,
      "outputs": [
        {
          "output_type": "stream",
          "name": "stdout",
          "text": [
            "Pearson Correlations:\n",
            " Open      0.038559\n",
            "High      0.039209\n",
            "Low       0.039899\n",
            "Close     0.041181\n",
            "Volume    0.002814\n",
            "dtype: float64\n"
          ]
        }
      ]
    },
    {
      "cell_type": "code",
      "source": [
        "# Normalize features\n",
        "scaler = MinMaxScaler()\n",
        "X_scaled = scaler.fit_transform(X)\n"
      ],
      "metadata": {
        "id": "HpOsCUpzKin4"
      },
      "execution_count": 43,
      "outputs": []
    },
    {
      "cell_type": "code",
      "source": [
        "# MLP configuration\n",
        "mlp = MLPClassifier(\n",
        "    hidden_layer_sizes=int((X.shape[1] + len(np.unique(y))) / 2),\n",
        "    activation='logistic',\n",
        "    solver='lbfgs',\n",
        "    learning_rate='adaptive',\n",
        "    learning_rate_init=0.03,\n",
        "    max_iter=5000,\n",
        "    momentum=0.2,\n",
        "    random_state=42\n",
        ")"
      ],
      "metadata": {
        "id": "b1kyhSeMKHXl"
      },
      "execution_count": 44,
      "outputs": []
    },
    {
      "cell_type": "code",
      "source": [
        "# 10-fold cross-validation\n",
        "skf = StratifiedKFold(n_splits=10, shuffle=False)\n",
        "accuracies = []\n",
        "for train_idx, test_idx in skf.split(X_scaled, y):\n",
        "    X_train, X_test = X_scaled[train_idx], X_scaled[test_idx]\n",
        "    y_train, y_test = y.iloc[train_idx], y.iloc[test_idx]\n",
        "    mlp.fit(X_train, y_train)\n",
        "    accuracy = mlp.score(X_test, y_test)\n",
        "    accuracies.append(accuracy)"
      ],
      "metadata": {
        "id": "a_sCtUySM4Hq"
      },
      "execution_count": 45,
      "outputs": []
    },
    {
      "cell_type": "code",
      "source": [
        "# Compute median accuracy\n",
        "median_accuracy = np.median(accuracies)\n",
        "print(f'Median Accuracy: {median_accuracy:.4f}')"
      ],
      "metadata": {
        "colab": {
          "base_uri": "https://localhost:8080/"
        },
        "id": "5vcplGh_M6FM",
        "outputId": "a95f175a-5b50-4988-d592-6c720eb2bd92"
      },
      "execution_count": 46,
      "outputs": [
        {
          "output_type": "stream",
          "name": "stdout",
          "text": [
            "Median Accuracy: 0.5020\n"
          ]
        }
      ]
    },
    {
      "cell_type": "code",
      "source": [
        "import matplotlib.pyplot as plt\n",
        "\n",
        "# Example accuracies from Table 4\n",
        "accuracies = [78.01, 77.82, 78.76, 79.33, 80.46, 80.27, 59.03]\n",
        "n_values = range(len(accuracies))\n",
        "\n",
        "# Base accuracy\n",
        "base_accuracy = accuracies[0]\n",
        "\n",
        "# Calculate percentage gains\n",
        "gains = [(acc - base_accuracy) / base_accuracy * 100 for acc in accuracies]\n",
        "\n",
        "# Plotting\n",
        "plt.plot(n_values, gains, marker='o')\n",
        "plt.xlabel('Selected (n)')\n",
        "plt.ylabel('Percentage Gain (%)')\n",
        "plt.title('Percentage Gain in Accuracy for ECH')\n",
        "plt.grid(True)\n",
        "\n",
        "# Save the figure\n",
        "plt.savefig('figure_5_percentage_gain.png')\n"
      ],
      "metadata": {
        "colab": {
          "base_uri": "https://localhost:8080/",
          "height": 472
        },
        "id": "9A7LLbCONYgw",
        "outputId": "dd35c72b-a9fa-4a45-ac49-f5b55a96281c"
      },
      "execution_count": 49,
      "outputs": [
        {
          "output_type": "display_data",
          "data": {
            "text/plain": [
              "<Figure size 640x480 with 1 Axes>"
            ],
            "image/png": "[encoded data removed]"
          },
          "metadata": {}
        }
      ]
    },
    {
      "cell_type": "code",
      "source": [
        "from matplotlib_venn import venn2\n",
        "import matplotlib.pyplot as plt\n",
        "\n",
        "#  Selected(5) features\n",
        "ech_features = {\n",
        "    'AOBV_LR_2', 'BBP_5_2.0', 'BOP', 'CTI_12', 'DEC_1',\n",
        "    'EBSW_40_10', 'INC_1', 'J_9_3', 'K_9_3', 'XS_30'\n",
        "}\n",
        "ewz_features = {\n",
        "    'AOBV_LR_2', 'BBP_5_2.0', 'BOP', 'CTI_12', 'DEC_1',\n",
        "    'EBSW_40_10', 'INC_1', 'J_9_3', 'STOCHk_14_3_3', 'WILLR_14'\n",
        "}\n",
        "\n",
        "# Create Venn diagram\n",
        "venn2([ech_features, ewz_features], set_labels=('ECH', 'EWZ'))\n",
        "plt.title('Venn Diagram of Selected(5) Features')\n",
        "plt.savefig('figure_6_venn_diagram.png')\n"
      ],
      "metadata": {
        "colab": {
          "base_uri": "https://localhost:8080/",
          "height": 432
        },
        "id": "V12xrRS9Nbne",
        "outputId": "ad6053aa-8672-46f7-9bd2-9dedc151cec6"
      },
      "execution_count": 35,
      "outputs": [
        {
          "output_type": "display_data",
          "data": {
            "text/plain": [
              "<Figure size 640x480 with 1 Axes>"
            ],
            "image/png": "[encoded data removed]"
          },
          "metadata": {}
        }
      ]
    }
  ]
}